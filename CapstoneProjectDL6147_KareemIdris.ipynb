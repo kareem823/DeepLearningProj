{
  "nbformat": 4,
  "nbformat_minor": 0,
  "metadata": {
    "colab": {
      "provenance": [],
      "gpuType": "T4",
      "authorship_tag": "ABX9TyPRjgTpca20DgGEC2mkJzN3",
      "include_colab_link": true
    },
    "kernelspec": {
      "name": "python3",
      "display_name": "Python 3"
    },
    "language_info": {
      "name": "python"
    },
    "accelerator": "GPU"
  },
  "cells": [
    {
      "cell_type": "markdown",
      "metadata": {
        "id": "view-in-github",
        "colab_type": "text"
      },
      "source": [
        "<a href=\"https://colab.research.google.com/github/kareem823/DeepLearningProj/blob/main/CapstoneProjectDL6147_KareemIdris.ipynb\" target=\"_parent\"><img src=\"https://colab.research.google.com/assets/colab-badge.svg\" alt=\"Open In Colab\"/></a>"
      ]
    },
    {
      "cell_type": "markdown",
      "source": [
        "#Kareem Idris, S#:0881393 , Due: DEC 4"
      ],
      "metadata": {
        "id": "ys0V3OAM8km7"
      }
    },
    {
      "cell_type": "markdown",
      "source": [
        "\n",
        "Due Date (Due 08/01/2024)\n",
        "Your grades are divided as follows:\n",
        "\n",
        "- 5% on your project proposal (one page contains, title, project description, why it is it good? how do you think you will do it? what data will you use? and how to will you evaluate your system performance) (Due 10/17/2024)\n",
        "\n",
        "- Running project (20%)\n",
        "\n",
        "- 15% report & presentation & GitHub project page\n",
        "\n",
        "How to Submit your Assignment\n",
        "Present your capstone project (including code)"
      ],
      "metadata": {
        "id": "U6xyLNCm9A97"
      }
    },
    {
      "cell_type": "markdown",
      "source": [
        "#Assignment Instructions\n",
        "\n",
        "1. Dataset Selection:\n",
        "\n",
        "\n",
        "Choose a suitable image dataset for your project. You can consider any of the well-known datasets here Datasets — Torchvision 0.17 documentation (pytorch.org) for simplicity.\n",
        "\n",
        "Ensure that the dataset contains a reasonable number of classes and a sufficient number of images per class.\n",
        "\n",
        "If the dataset has very large number of images, you can use a subset (e.g., 1000 images per class if number of classes are 10 or less)\n",
        "\n",
        "If the dataset has more than 20 classes, you can use a subset of the classes (e.g., only use 10 classes)\n",
        "\n",
        "\n"
      ],
      "metadata": {
        "id": "_OIbXwQ48rbc"
      }
    },
    {
      "cell_type": "code",
      "source": [
        "# import the necessary packages\n",
        "import torch\n",
        "import os\n",
        "from torch.utils.data import Dataset\n",
        "import cv2\n",
        "from torch.nn import ConvTranspose2d\n",
        "from torch.nn import Conv2d\n",
        "from torch.nn import MaxPool2d\n",
        "from torch.nn import Module\n",
        "from torch.nn import ModuleList\n",
        "from torch.nn import ReLU\n",
        "from torchvision.transforms import CenterCrop\n",
        "from torch.nn import functional as F\n",
        "import numpy as np\n",
        "import matplotlib.pyplot as plt\n",
        "import sklearn as skl\n",
        "import glob\n",
        "from mpl_toolkits.axes_grid1 import ImageGrid\n",
        "from google.colab import files\n",
        "import zipfile\n"
      ],
      "metadata": {
        "id": "ardGuxe1aYbo"
      },
      "execution_count": null,
      "outputs": []
    },
    {
      "cell_type": "code",
      "source": [
        "from google.colab import drive\n",
        "#loading google drive access for my project\n",
        "drive.mount('/content/drive')\n"
      ],
      "metadata": {
        "colab": {
          "base_uri": "https://localhost:8080/"
        },
        "id": "HliqAkkvLhlc",
        "outputId": "f097c28c-0af6-44ff-cf0b-1ee69a33cf2b"
      },
      "execution_count": null,
      "outputs": [
        {
          "output_type": "stream",
          "name": "stdout",
          "text": [
            "Mounted at /content/drive\n"
          ]
        }
      ]
    },
    {
      "cell_type": "code",
      "source": [
        "\n",
        "#get the path of my ziped images folder\n",
        "path = '/content/drive/MyDrive/1647DeepLearning/1647-CapstoneProject/capstoneproject1/hipimages1.zip'\n",
        "\n",
        "#images into project\n",
        "with zipfile.ZipFile(path, 'r') as zip_ref:\n",
        "    zip_ref.extractall('/content/data')  # Extract to a folder\n"
      ],
      "metadata": {
        "id": "zTDvNtG3JEh5"
      },
      "execution_count": null,
      "outputs": []
    },
    {
      "cell_type": "markdown",
      "source": [
        "#2. Data Preprocessing:\n",
        "\n",
        "\n",
        "Perform data preprocessing steps such as resizing images, normalizing pixel values, and splitting the dataset into training, validation, and test sets.\n",
        "Apply data augmentation techniques to increase the diversity of the training data."
      ],
      "metadata": {
        "id": "g0CdNgJW9Ire"
      }
    },
    {
      "cell_type": "code",
      "source": [
        "\n",
        "from torchvision import datasets, transforms\n",
        "from torch.utils.data import DataLoader"
      ],
      "metadata": {
        "id": "6wcTJZlmHXMd"
      },
      "execution_count": null,
      "outputs": []
    },
    {
      "cell_type": "code",
      "source": [
        "\n",
        "# Define transformations\n",
        "train_transforms = transforms.Compose([\n",
        "    transforms.Resize((224, 224)),  # Resize images to 224x224\n",
        "    transforms.RandomHorizontalFlip(),  # Random horizontal flip for augmentation\n",
        "    transforms.RandomRotation(10),  # Random rotation for augmentation\n",
        "    transforms.ToTensor(),  # Convert images to tensors\n",
        "    transforms.Normalize(mean=[0.5], std=[0.5])  # Normalize pixel values\n",
        "])\n",
        "\n",
        "val_test_transforms = transforms.Compose([\n",
        "    transforms.Resize((224, 224)),  # Resize images to 224x224\n",
        "    transforms.ToTensor(),  # Convert images to tensors\n",
        "    transforms.Normalize(mean=[0.5], std=[0.5])  # Normalize pixel values\n",
        "])\n"
      ],
      "metadata": {
        "id": "x9oB5m9uNTxW"
      },
      "execution_count": null,
      "outputs": []
    },
    {
      "cell_type": "code",
      "source": [
        "from torchvision.datasets import ImageFolder\n"
      ],
      "metadata": {
        "id": "iNqUvhhmOlIP"
      },
      "execution_count": null,
      "outputs": []
    },
    {
      "cell_type": "code",
      "source": [
        "\n",
        "# Define paths to datasets\n",
        "data_dir = '/content/data/Data'\n",
        "\n",
        "# Load datasets with respective transformations\n",
        "train_dataset = ImageFolder(root=data_dir, transform=train_transforms)"
      ],
      "metadata": {
        "id": "rLK5VqUoOhUI"
      },
      "execution_count": null,
      "outputs": []
    },
    {
      "cell_type": "code",
      "source": [
        "from torch.utils.data import random_split\n",
        "\n",
        "# Set the split ratios\n",
        "train_ratio = 0.7\n",
        "val_ratio = 0.2\n",
        "test_ratio = 0.1\n",
        "\n",
        "# Calculate lengths\n",
        "total_size = len(train_dataset)\n",
        "train_size = int(total_size * train_ratio)\n",
        "val_size = int(total_size * val_ratio)\n",
        "test_size = total_size - train_size - val_size\n",
        "\n",
        "# Split the dataset\n",
        "train_dataset, val_dataset, test_dataset = random_split(train_dataset, [train_size, val_size, test_size])\n"
      ],
      "metadata": {
        "id": "wOH6PgELOm-0"
      },
      "execution_count": null,
      "outputs": []
    },
    {
      "cell_type": "code",
      "source": [
        "from torch.utils.data import DataLoader\n",
        "\n",
        "# Create data loaders\n",
        "train_loader = DataLoader(train_dataset, batch_size=32, shuffle=True)\n",
        "val_loader = DataLoader(val_dataset, batch_size=32, shuffle=False)\n",
        "test_loader = DataLoader(test_dataset, batch_size=32, shuffle=False)\n"
      ],
      "metadata": {
        "id": "xmTW-8NOOtrx"
      },
      "execution_count": null,
      "outputs": []
    },
    {
      "cell_type": "code",
      "source": [
        "import matplotlib.pyplot as plt\n",
        "import numpy as np\n",
        "import torchvision # Import torchvision\n",
        "\n",
        "\n",
        "# Function to display images\n",
        "def imshow(img):\n",
        "    img = img / 2 + 0.5  # Unnormalize\n",
        "    npimg = img.numpy()\n",
        "    plt.imshow(np.transpose(npimg, (1, 2, 0)))\n",
        "    plt.show()\n",
        "\n",
        "# Display a batch of training images\n",
        "dataiter = iter(train_loader)\n",
        "images, labels = next(dataiter)\n",
        "\n",
        "# Show images\n",
        "imshow(torchvision.utils.make_grid(images))\n"
      ],
      "metadata": {
        "colab": {
          "base_uri": "https://localhost:8080/",
          "height": 314
        },
        "id": "GC_18_G8OwMV",
        "outputId": "e69e52bd-f6f2-4176-81c9-b73ba4b15876"
      },
      "execution_count": null,
      "outputs": [
        {
          "output_type": "display_data",
          "data": {
            "text/plain": [
              "<Figure size 640x480 with 1 Axes>"
            ],
            "image/png": "[encoded data removed]"
          },
          "metadata": {}
        }
      ]
    },
    {
      "cell_type": "markdown",
      "source": [
        "\n",
        "3. Model Selection and Architecture:\n",
        "\n",
        "\n",
        "Select an appropriate deep learning architecture for image classification. You can start with a convolutional neural network (CNN).\n",
        "\n",
        "Define the architecture of your model, including the number of layers, activation functions, and any regularization techniques.\n",
        "\n"
      ],
      "metadata": {
        "id": "odMsOvLL86ba"
      }
    },
    {
      "cell_type": "code",
      "source": [
        "import torch.nn as nn\n",
        "import torch\n",
        "\n",
        "# Define the custom VGG16 architecture\n",
        "class VGG16(nn.Module):\n",
        "    def __init__(self, num_classes=2):\n",
        "        super(VGG16, self).__init__()\n",
        "        self.features = nn.Sequential(\n",
        "            # First Conv Block\n",
        "            nn.Conv2d(3, 64, kernel_size=3, padding=1),\n",
        "            nn.ReLU(inplace=True),\n",
        "            nn.Conv2d(64, 64, kernel_size=3, padding=1),\n",
        "            nn.ReLU(inplace=True),\n",
        "            nn.MaxPool2d(kernel_size=2, stride=2),\n",
        "\n",
        "            # Second Conv Block\n",
        "            nn.Conv2d(64, 128, kernel_size=3, padding=1),\n",
        "            nn.ReLU(inplace=True),\n",
        "            nn.Conv2d(128, 128, kernel_size=3, padding=1),\n",
        "            nn.ReLU(inplace=True),\n",
        "            nn.MaxPool2d(kernel_size=2, stride=2),\n",
        "\n",
        "            # Third Conv Block\n",
        "            nn.Conv2d(128, 256, kernel_size=3, padding=1),\n",
        "            nn.ReLU(inplace=True),\n",
        "            nn.Conv2d(256, 256, kernel_size=3, padding=1),\n",
        "            nn.ReLU(inplace=True),\n",
        "            nn.Conv2d(256, 256, kernel_size=3, padding=1),\n",
        "            nn.ReLU(inplace=True),\n",
        "            nn.MaxPool2d(kernel_size=2, stride=2),\n",
        "\n",
        "            # Fourth Conv Block\n",
        "            nn.Conv2d(256, 512, kernel_size=3, padding=1),\n",
        "            nn.ReLU(inplace=True),\n",
        "            nn.Conv2d(512, 512, kernel_size=3, padding=1),\n",
        "            nn.ReLU(inplace=True),\n",
        "            nn.Conv2d(512, 512, kernel_size=3, padding=1),\n",
        "            nn.ReLU(inplace=True),\n",
        "            nn.MaxPool2d(kernel_size=2, stride=2),\n",
        "\n",
        "            # Fifth Conv Block\n",
        "            nn.Conv2d(512, 512, kernel_size=3, padding=1),\n",
        "            nn.ReLU(inplace=True),\n",
        "            nn.Conv2d(512, 512, kernel_size=3, padding=1),\n",
        "            nn.ReLU(inplace=True),\n",
        "            nn.Conv2d(512, 512, kernel_size=3, padding=1),\n",
        "            nn.ReLU(inplace=True),\n",
        "            nn.MaxPool2d(kernel_size=2, stride=2)\n",
        "        )\n",
        "        self.classifier = nn.Sequential(\n",
        "            nn.Linear(512 * 7 * 7, 4096),\n",
        "            nn.ReLU(inplace=True),\n",
        "            nn.Dropout(),\n",
        "            nn.Linear(4096, 4096),\n",
        "            nn.ReLU(inplace=True),\n",
        "            nn.Dropout(),\n",
        "            nn.Linear(4096, num_classes)\n",
        "        )\n",
        "\n",
        "    def forward(self, x):\n",
        "        x = self.features(x)\n",
        "        x = x.view(x.size(0), -1)  # Flatten the tensor\n",
        "        x = self.classifier(x)\n",
        "        return x\n",
        "\n",
        "# Instantiate the model\n",
        "num_classes = 2  # Two output classes\n",
        "model = VGG16(num_classes=num_classes)\n",
        "\n",
        "# Move model to GPU if available\n",
        "device = torch.device('cuda' if torch.cuda.is_available() else 'cpu')\n",
        "model = model.to(device)\n",
        "\n",
        "# Print the model architecture\n",
        "print(model)\n"
      ],
      "metadata": {
        "id": "QYxjoiqi877p",
        "colab": {
          "base_uri": "https://localhost:8080/"
        },
        "outputId": "ff4bb0fe-b4bc-4e56-bbef-5749a8caa354"
      },
      "execution_count": null,
      "outputs": [
        {
          "output_type": "stream",
          "name": "stdout",
          "text": [
            "VGG16(\n",
            "  (features): Sequential(\n",
            "    (0): Conv2d(3, 64, kernel_size=(3, 3), stride=(1, 1), padding=(1, 1))\n",
            "    (1): ReLU(inplace=True)\n",
            "    (2): Conv2d(64, 64, kernel_size=(3, 3), stride=(1, 1), padding=(1, 1))\n",
            "    (3): ReLU(inplace=True)\n",
            "    (4): MaxPool2d(kernel_size=2, stride=2, padding=0, dilation=1, ceil_mode=False)\n",
            "    (5): Conv2d(64, 128, kernel_size=(3, 3), stride=(1, 1), padding=(1, 1))\n",
            "    (6): ReLU(inplace=True)\n",
            "    (7): Conv2d(128, 128, kernel_size=(3, 3), stride=(1, 1), padding=(1, 1))\n",
            "    (8): ReLU(inplace=True)\n",
            "    (9): MaxPool2d(kernel_size=2, stride=2, padding=0, dilation=1, ceil_mode=False)\n",
            "    (10): Conv2d(128, 256, kernel_size=(3, 3), stride=(1, 1), padding=(1, 1))\n",
            "    (11): ReLU(inplace=True)\n",
            "    (12): Conv2d(256, 256, kernel_size=(3, 3), stride=(1, 1), padding=(1, 1))\n",
            "    (13): ReLU(inplace=True)\n",
            "    (14): Conv2d(256, 256, kernel_size=(3, 3), stride=(1, 1), padding=(1, 1))\n",
            "    (15): ReLU(inplace=True)\n",
            "    (16): MaxPool2d(kernel_size=2, stride=2, padding=0, dilation=1, ceil_mode=False)\n",
            "    (17): Conv2d(256, 512, kernel_size=(3, 3), stride=(1, 1), padding=(1, 1))\n",
            "    (18): ReLU(inplace=True)\n",
            "    (19): Conv2d(512, 512, kernel_size=(3, 3), stride=(1, 1), padding=(1, 1))\n",
            "    (20): ReLU(inplace=True)\n",
            "    (21): Conv2d(512, 512, kernel_size=(3, 3), stride=(1, 1), padding=(1, 1))\n",
            "    (22): ReLU(inplace=True)\n",
            "    (23): MaxPool2d(kernel_size=2, stride=2, padding=0, dilation=1, ceil_mode=False)\n",
            "    (24): Conv2d(512, 512, kernel_size=(3, 3), stride=(1, 1), padding=(1, 1))\n",
            "    (25): ReLU(inplace=True)\n",
            "    (26): Conv2d(512, 512, kernel_size=(3, 3), stride=(1, 1), padding=(1, 1))\n",
            "    (27): ReLU(inplace=True)\n",
            "    (28): Conv2d(512, 512, kernel_size=(3, 3), stride=(1, 1), padding=(1, 1))\n",
            "    (29): ReLU(inplace=True)\n",
            "    (30): MaxPool2d(kernel_size=2, stride=2, padding=0, dilation=1, ceil_mode=False)\n",
            "  )\n",
            "  (classifier): Sequential(\n",
            "    (0): Linear(in_features=25088, out_features=4096, bias=True)\n",
            "    (1): ReLU(inplace=True)\n",
            "    (2): Dropout(p=0.5, inplace=False)\n",
            "    (3): Linear(in_features=4096, out_features=4096, bias=True)\n",
            "    (4): ReLU(inplace=True)\n",
            "    (5): Dropout(p=0.5, inplace=False)\n",
            "    (6): Linear(in_features=4096, out_features=2, bias=True)\n",
            "  )\n",
            ")\n"
          ]
        }
      ]
    },
    {
      "cell_type": "code",
      "source": [
        "import torch.optim as optim\n",
        "\n",
        "# Define loss function\n",
        "criterion = nn.CrossEntropyLoss()\n",
        "\n",
        "# Define optimizer\n",
        "optimizer = optim.Adam(model.parameters(), lr=0.001)\n"
      ],
      "metadata": {
        "id": "7AmxuVFHJTUI"
      },
      "execution_count": null,
      "outputs": []
    },
    {
      "cell_type": "code",
      "source": [
        "#Move Model to GPU (if available)\n",
        "device = torch.device('cuda' if torch.cuda.is_available() else 'cpu')\n",
        "model = model.to(device)\n"
      ],
      "metadata": {
        "id": "jwEaNM1yJc_y"
      },
      "execution_count": null,
      "outputs": []
    },
    {
      "cell_type": "markdown",
      "source": [
        "\n",
        "#4. Model Training:\n",
        "\n",
        "Train your deep learning model using the training dataset.\n",
        "Monitor training progress, including loss and accuracy, and consider using early stopping to prevent overfitting.\n"
      ],
      "metadata": {
        "id": "H1QDbOZh88LJ"
      }
    },
    {
      "cell_type": "code",
      "source": [
        "import torch.optim as optim\n",
        "\n",
        "# Define loss function and optimizer\n",
        "criterion = nn.CrossEntropyLoss()\n",
        "optimizer = optim.Adam(model.parameters(), lr=0.0001)\n",
        "\n",
        "# Training and validation function\n",
        "def train_model(model, train_loader, val_loader, criterion, optimizer, num_epochs=10):\n",
        "    model.train()\n",
        "    for epoch in range(num_epochs):\n",
        "        running_loss = 0.0\n",
        "        for images, labels in train_loader:\n",
        "            images, labels = images.to(device), labels.to(device)\n",
        "\n",
        "            # Zero the parameter gradients\n",
        "            optimizer.zero_grad()\n",
        "\n",
        "            # Forward pass\n",
        "            outputs = model(images)\n",
        "            loss = criterion(outputs, labels)\n",
        "\n",
        "            # Backward pass\n",
        "            loss.backward()\n",
        "            optimizer.step()\n",
        "\n",
        "            # Update running loss\n",
        "            running_loss += loss.item()\n",
        "\n",
        "        # Print loss for the epoch\n",
        "        print(f\"Epoch {epoch+1}/{num_epochs}, Loss: {running_loss/len(train_loader):.4f}\")\n",
        "\n",
        "        # Validate the model\n",
        "        validate_model(model, val_loader, criterion)\n",
        "\n",
        "# Validation function\n",
        "def validate_model(model, val_loader, criterion):\n",
        "    model.eval()\n",
        "    val_loss = 0.0\n",
        "    correct = 0\n",
        "    total = 0\n",
        "    with torch.no_grad():\n",
        "        for images, labels in val_loader:\n",
        "            images, labels = images.to(device), labels.to(device)\n",
        "            outputs = model(images)\n",
        "            loss = criterion(outputs, labels)\n",
        "            val_loss += loss.item()\n",
        "            _, predicted = torch.max(outputs, 1)\n",
        "            total += labels.size(0)\n",
        "            correct += (predicted == labels).sum().item()\n",
        "    print(f\"Validation Loss: {val_loss/len(val_loader):.4f}, Accuracy: {100 * correct / total:.2f}%\")\n",
        "\n",
        "# Train the model\n",
        "num_epochs = 10\n",
        "train_model(model, train_loader, val_loader, criterion, optimizer, num_epochs)\n"
      ],
      "metadata": {
        "id": "xvbvJhRx9Ukt",
        "colab": {
          "base_uri": "https://localhost:8080/"
        },
        "outputId": "d669ab85-cae8-496a-c866-ccc5172269b4"
      },
      "execution_count": null,
      "outputs": [
        {
          "output_type": "stream",
          "name": "stdout",
          "text": [
            "Epoch 1/10, Loss: 0.6919\n",
            "Validation Loss: 0.7087, Accuracy: 46.34%\n",
            "Epoch 2/10, Loss: 0.7058\n",
            "Validation Loss: 0.7261, Accuracy: 46.34%\n",
            "Epoch 3/10, Loss: 0.6898\n",
            "Validation Loss: 0.6986, Accuracy: 46.34%\n",
            "Epoch 4/10, Loss: 0.6924\n",
            "Validation Loss: 0.6948, Accuracy: 46.34%\n",
            "Epoch 5/10, Loss: 0.6924\n",
            "Validation Loss: 0.6977, Accuracy: 46.34%\n",
            "Epoch 6/10, Loss: 0.6909\n",
            "Validation Loss: 0.7007, Accuracy: 46.34%\n",
            "Epoch 7/10, Loss: 0.6917\n",
            "Validation Loss: 0.7062, Accuracy: 46.34%\n",
            "Epoch 8/10, Loss: 0.6860\n",
            "Validation Loss: 0.7089, Accuracy: 46.34%\n",
            "Epoch 9/10, Loss: 0.6901\n",
            "Validation Loss: 0.7154, Accuracy: 46.34%\n",
            "Epoch 10/10, Loss: 0.6885\n",
            "Validation Loss: 0.7180, Accuracy: 46.34%\n"
          ]
        }
      ]
    },
    {
      "cell_type": "code",
      "source": [
        "num_epochs = 10\n",
        "train_model(model, train_loader, val_loader, criterion, optimizer, num_epochs)\n"
      ],
      "metadata": {
        "colab": {
          "base_uri": "https://localhost:8080/"
        },
        "id": "_ta9YA1FJr5U",
        "outputId": "d210a965-7308-4aa8-8275-170a3151329b"
      },
      "execution_count": null,
      "outputs": [
        {
          "output_type": "stream",
          "name": "stdout",
          "text": [
            "Epoch 1/10, Loss: 0.6891\n",
            "Validation Loss: 0.7149, Accuracy: 46.34%\n",
            "Epoch 2/10, Loss: 0.6883\n",
            "Validation Loss: 0.7145, Accuracy: 46.34%\n",
            "Epoch 3/10, Loss: 0.6873\n",
            "Validation Loss: 0.7165, Accuracy: 46.34%\n",
            "Epoch 4/10, Loss: 0.6840\n",
            "Validation Loss: 0.7148, Accuracy: 46.34%\n",
            "Epoch 5/10, Loss: 0.6866\n",
            "Validation Loss: 0.7195, Accuracy: 46.34%\n",
            "Epoch 6/10, Loss: 0.6928\n",
            "Validation Loss: 0.7265, Accuracy: 46.34%\n",
            "Epoch 7/10, Loss: 0.6908\n",
            "Validation Loss: 0.7161, Accuracy: 46.34%\n",
            "Epoch 8/10, Loss: 0.6878\n",
            "Validation Loss: 0.7117, Accuracy: 46.34%\n",
            "Epoch 9/10, Loss: 0.6867\n",
            "Validation Loss: 0.7069, Accuracy: 46.34%\n",
            "Epoch 10/10, Loss: 0.6883\n",
            "Validation Loss: 0.7136, Accuracy: 46.34%\n"
          ]
        }
      ]
    },
    {
      "cell_type": "markdown",
      "source": [
        "Visualization"
      ],
      "metadata": {
        "id": "-y7hTuBDX5sS"
      }
    },
    {
      "cell_type": "code",
      "source": [
        "#You can save the trained model for later use.\n",
        "torch.save(model.state_dict(), 'hip_xray_model.pth')\n"
      ],
      "metadata": {
        "id": "inrA9HFCJ3g0"
      },
      "execution_count": null,
      "outputs": []
    },
    {
      "cell_type": "code",
      "source": [
        "# to To load the model later:\n",
        "\n",
        "model.load_state_dict(torch.load('hip_xray_model.pth'))\n",
        "model = model.to(device)\n"
      ],
      "metadata": {
        "colab": {
          "base_uri": "https://localhost:8080/"
        },
        "id": "HKqD6w26J8DJ",
        "outputId": "4a8287fa-237c-498a-f46f-3d830dbedaea"
      },
      "execution_count": null,
      "outputs": [
        {
          "output_type": "stream",
          "name": "stderr",
          "text": [
            "<ipython-input-19-26c9d20a9d8b>:3: FutureWarning: You are using `torch.load` with `weights_only=False` (the current default value), which uses the default pickle module implicitly. It is possible to construct malicious pickle data which will execute arbitrary code during unpickling (See https://github.com/pytorch/pytorch/blob/main/SECURITY.md#untrusted-models for more details). In a future release, the default value for `weights_only` will be flipped to `True`. This limits the functions that could be executed during unpickling. Arbitrary objects will no longer be allowed to be loaded via this mode unless they are explicitly allowlisted by the user via `torch.serialization.add_safe_globals`. We recommend you start setting `weights_only=True` for any use case where you don't have full control of the loaded file. Please open an issue on GitHub for any issues related to this experimental feature.\n",
            "  model.load_state_dict(torch.load('hip_xray_model.pth'))\n"
          ]
        }
      ]
    },
    {
      "cell_type": "markdown",
      "source": [
        "\n",
        "5. Hyperparameter Tuning:\n",
        "\n",
        "\n",
        "Experiment with different hyperparameters (e.g., learning rate, batch size) to optimize the model's performance.\n",
        "\n",
        "Keep a record of the hyperparameters used and their impact on the model.\n"
      ],
      "metadata": {
        "id": "AKvHd6CJ9U75"
      }
    },
    {
      "cell_type": "code",
      "source": [
        "# Define a list of hyperparameters to experiment with\n",
        "hyperparameters = {\n",
        "    'learning_rate': [0.001, 0.0001, 0.01],\n",
        "    'batch_size': [16, 32, 64],\n",
        "}\n",
        "\n",
        "results = []\n",
        "\n",
        "for lr in hyperparameters['learning_rate']:\n",
        "    for batch_size in hyperparameters['batch_size']:\n",
        "        print(f\"Training with lr={lr}, batch_size={batch_size}\")\n",
        "\n",
        "        # Recreate data loaders with the current batch size\n",
        "        train_loader = DataLoader(train_dataset, batch_size=batch_size, shuffle=True)\n",
        "        val_loader = DataLoader(val_dataset, batch_size=batch_size, shuffle=False)\n",
        "\n",
        "        # Reinitialize the model\n",
        "        model = VGG16(num_classes=2)\n",
        "        model = model.to(device)\n",
        "\n",
        "        # Reset the optimizer\n",
        "        optimizer = optim.Adam(model.parameters(), lr=lr)\n",
        "\n",
        "        # Train the model\n",
        "        train_model(model, train_loader, val_loader, criterion, optimizer, num_epochs=10)\n",
        "\n",
        "        # Store the results\n",
        "        results.append({\n",
        "            'learning_rate': lr,\n",
        "            'batch_size': batch_size,\n",
        "            'final_loss': None,  # Replace with final loss value after training\n",
        "            'final_accuracy': None  # Replace with final accuracy after training\n",
        "        })\n",
        "\n",
        "# Convert results to a DataFrame for easier analysis\n",
        "import pandas as pd\n",
        "results_df = pd.DataFrame(results)\n",
        "print(results_df)\n"
      ],
      "metadata": {
        "id": "9NgttcWU9akj",
        "colab": {
          "base_uri": "https://localhost:8080/"
        },
        "outputId": "41a43195-10a5-4c2f-dcb0-f5ef21a0e835"
      },
      "execution_count": null,
      "outputs": [
        {
          "output_type": "stream",
          "name": "stdout",
          "text": [
            "Training with lr=0.001, batch_size=16\n",
            "Epoch 1/10, Loss: 0.7539\n",
            "Validation Loss: 0.6870, Accuracy: 53.66%\n",
            "Epoch 2/10, Loss: 0.6901\n",
            "Validation Loss: 0.7120, Accuracy: 46.34%\n",
            "Epoch 3/10, Loss: 0.7014\n",
            "Validation Loss: 0.6991, Accuracy: 46.34%\n",
            "Epoch 4/10, Loss: 0.6897\n",
            "Validation Loss: 0.7008, Accuracy: 46.34%\n",
            "Epoch 5/10, Loss: 0.6905\n",
            "Validation Loss: 0.7052, Accuracy: 46.34%\n",
            "Epoch 6/10, Loss: 0.6892\n",
            "Validation Loss: 0.7060, Accuracy: 46.34%\n",
            "Epoch 7/10, Loss: 0.6887\n",
            "Validation Loss: 0.7058, Accuracy: 46.34%\n",
            "Epoch 8/10, Loss: 0.6897\n",
            "Validation Loss: 0.7088, Accuracy: 46.34%\n",
            "Epoch 9/10, Loss: 0.6894\n",
            "Validation Loss: 0.7048, Accuracy: 46.34%\n",
            "Epoch 10/10, Loss: 0.6892\n",
            "Validation Loss: 0.7068, Accuracy: 46.34%\n",
            "Training with lr=0.001, batch_size=32\n",
            "Epoch 1/10, Loss: 0.6960\n",
            "Validation Loss: 0.7156, Accuracy: 46.34%\n",
            "Epoch 2/10, Loss: 0.8015\n",
            "Validation Loss: 0.6859, Accuracy: 53.66%\n",
            "Epoch 3/10, Loss: 0.7034\n",
            "Validation Loss: 0.6929, Accuracy: 53.66%\n",
            "Epoch 4/10, Loss: 0.6931\n",
            "Validation Loss: 0.7030, Accuracy: 46.34%\n",
            "Epoch 5/10, Loss: 0.6879\n",
            "Validation Loss: 0.7089, Accuracy: 46.34%\n",
            "Epoch 6/10, Loss: 0.6848\n",
            "Validation Loss: 0.7139, Accuracy: 46.34%\n",
            "Epoch 7/10, Loss: 0.7627\n",
            "Validation Loss: 0.7087, Accuracy: 46.34%\n",
            "Epoch 8/10, Loss: 0.6998\n",
            "Validation Loss: 0.7205, Accuracy: 46.34%\n",
            "Epoch 9/10, Loss: 0.6947\n",
            "Validation Loss: 0.7153, Accuracy: 46.34%\n",
            "Epoch 10/10, Loss: 0.6883\n",
            "Validation Loss: 0.7210, Accuracy: 46.34%\n",
            "Training with lr=0.001, batch_size=64\n",
            "Epoch 1/10, Loss: 0.9293\n",
            "Validation Loss: 0.6906, Accuracy: 53.66%\n",
            "Epoch 2/10, Loss: 0.8285\n",
            "Validation Loss: 0.6992, Accuracy: 46.34%\n",
            "Epoch 3/10, Loss: 0.7205\n",
            "Validation Loss: 0.7117, Accuracy: 46.34%\n",
            "Epoch 4/10, Loss: 0.6905\n",
            "Validation Loss: 0.6944, Accuracy: 46.34%\n",
            "Epoch 5/10, Loss: 0.6929\n",
            "Validation Loss: 0.6948, Accuracy: 46.34%\n",
            "Epoch 6/10, Loss: 0.6941\n",
            "Validation Loss: 0.6952, Accuracy: 46.34%\n",
            "Epoch 7/10, Loss: 0.6917\n",
            "Validation Loss: 0.6951, Accuracy: 46.34%\n",
            "Epoch 8/10, Loss: 0.6929\n",
            "Validation Loss: 0.6958, Accuracy: 46.34%\n",
            "Epoch 9/10, Loss: 0.6915\n",
            "Validation Loss: 0.6966, Accuracy: 46.34%\n",
            "Epoch 10/10, Loss: 0.6933\n",
            "Validation Loss: 0.6980, Accuracy: 46.34%\n",
            "Training with lr=0.0001, batch_size=16\n",
            "Epoch 1/10, Loss: 0.6917\n",
            "Validation Loss: 0.7035, Accuracy: 46.34%\n",
            "Epoch 2/10, Loss: 0.6891\n",
            "Validation Loss: 0.7133, Accuracy: 46.34%\n",
            "Epoch 3/10, Loss: 0.6909\n",
            "Validation Loss: 0.7040, Accuracy: 46.34%\n",
            "Epoch 4/10, Loss: 0.6909\n",
            "Validation Loss: 0.7068, Accuracy: 46.34%\n",
            "Epoch 5/10, Loss: 0.6898\n",
            "Validation Loss: 0.7106, Accuracy: 46.34%\n",
            "Epoch 6/10, Loss: 0.6898\n",
            "Validation Loss: 0.7033, Accuracy: 46.34%\n",
            "Epoch 7/10, Loss: 0.6901\n",
            "Validation Loss: 0.7026, Accuracy: 46.34%\n",
            "Epoch 8/10, Loss: 0.6894\n",
            "Validation Loss: 0.7077, Accuracy: 46.34%\n",
            "Epoch 9/10, Loss: 0.6897\n",
            "Validation Loss: 0.7127, Accuracy: 46.34%\n",
            "Epoch 10/10, Loss: 0.6908\n",
            "Validation Loss: 0.7144, Accuracy: 46.34%\n",
            "Training with lr=0.0001, batch_size=32\n",
            "Epoch 1/10, Loss: 0.6916\n",
            "Validation Loss: 0.7017, Accuracy: 46.34%\n",
            "Epoch 2/10, Loss: 0.6925\n",
            "Validation Loss: 0.7230, Accuracy: 46.34%\n",
            "Epoch 3/10, Loss: 0.6887\n",
            "Validation Loss: 0.7086, Accuracy: 46.34%\n",
            "Epoch 4/10, Loss: 0.6929\n",
            "Validation Loss: 0.7129, Accuracy: 46.34%\n",
            "Epoch 5/10, Loss: 0.6914\n",
            "Validation Loss: 0.7051, Accuracy: 46.34%\n",
            "Epoch 6/10, Loss: 0.6891\n",
            "Validation Loss: 0.7046, Accuracy: 46.34%\n",
            "Epoch 7/10, Loss: 0.6891\n",
            "Validation Loss: 0.7053, Accuracy: 46.34%\n",
            "Epoch 8/10, Loss: 0.6901\n",
            "Validation Loss: 0.7072, Accuracy: 46.34%\n",
            "Epoch 9/10, Loss: 0.6885\n",
            "Validation Loss: 0.7127, Accuracy: 46.34%\n",
            "Epoch 10/10, Loss: 0.6883\n",
            "Validation Loss: 0.7173, Accuracy: 46.34%\n",
            "Training with lr=0.0001, batch_size=64\n",
            "Epoch 1/10, Loss: 0.6917\n",
            "Validation Loss: 0.6982, Accuracy: 46.34%\n",
            "Epoch 2/10, Loss: 0.6927\n",
            "Validation Loss: 0.7043, Accuracy: 46.34%\n",
            "Epoch 3/10, Loss: 0.6932\n",
            "Validation Loss: 0.6995, Accuracy: 46.34%\n",
            "Epoch 4/10, Loss: 0.6919\n",
            "Validation Loss: 0.6956, Accuracy: 46.34%\n",
            "Epoch 5/10, Loss: 0.6915\n",
            "Validation Loss: 0.6972, Accuracy: 46.34%\n",
            "Epoch 6/10, Loss: 0.6893\n",
            "Validation Loss: 0.6993, Accuracy: 46.34%\n",
            "Epoch 7/10, Loss: 0.6790\n",
            "Validation Loss: 0.7044, Accuracy: 46.34%\n",
            "Epoch 8/10, Loss: 0.6832\n",
            "Validation Loss: 0.7165, Accuracy: 46.34%\n",
            "Epoch 9/10, Loss: 0.7025\n",
            "Validation Loss: 0.7220, Accuracy: 46.34%\n",
            "Epoch 10/10, Loss: 0.6895\n",
            "Validation Loss: 0.7121, Accuracy: 46.34%\n",
            "Training with lr=0.01, batch_size=16\n",
            "Epoch 1/10, Loss: 771922396.8634\n",
            "Validation Loss: 5.6267, Accuracy: 53.66%\n",
            "Epoch 2/10, Loss: 19252.1849\n",
            "Validation Loss: 600.2403, Accuracy: 46.34%\n",
            "Epoch 3/10, Loss: 1992.4837\n",
            "Validation Loss: 12.5998, Accuracy: 46.34%\n",
            "Epoch 4/10, Loss: 8.2647\n",
            "Validation Loss: 2.4959, Accuracy: 46.34%\n",
            "Epoch 5/10, Loss: 175.7635\n",
            "Validation Loss: 12.4585, Accuracy: 46.34%\n",
            "Epoch 6/10, Loss: 1.3547\n",
            "Validation Loss: 0.8561, Accuracy: 53.66%\n",
            "Epoch 7/10, Loss: 0.7011\n",
            "Validation Loss: 0.7928, Accuracy: 46.34%\n",
            "Epoch 8/10, Loss: 0.7196\n",
            "Validation Loss: 0.7122, Accuracy: 46.34%\n",
            "Epoch 9/10, Loss: 0.7005\n",
            "Validation Loss: 0.6904, Accuracy: 53.66%\n",
            "Epoch 10/10, Loss: 0.6981\n",
            "Validation Loss: 0.7006, Accuracy: 46.34%\n",
            "Training with lr=0.01, batch_size=32\n",
            "Epoch 1/10, Loss: 3561003621.5761\n",
            "Validation Loss: 673965312.0000, Accuracy: 53.66%\n",
            "Epoch 2/10, Loss: 2221281665.2000\n",
            "Validation Loss: 1464861952.0000, Accuracy: 53.66%\n",
            "Epoch 3/10, Loss: 422607340.4500\n",
            "Validation Loss: 1349783.5000, Accuracy: 53.66%\n",
            "Epoch 4/10, Loss: 440880192.4094\n",
            "Validation Loss: 8022845.2500, Accuracy: 53.66%\n",
            "Epoch 5/10, Loss: 2857282.5641\n",
            "Validation Loss: 7024.7343, Accuracy: 53.66%\n",
            "Epoch 6/10, Loss: 2283.7197\n",
            "Validation Loss: 3648313.6250, Accuracy: 43.90%\n",
            "Epoch 7/10, Loss: 238542654.6540\n",
            "Validation Loss: 3.4622, Accuracy: 46.34%\n",
            "Epoch 8/10, Loss: 2.4677\n",
            "Validation Loss: 0.6809, Accuracy: 53.66%\n",
            "Epoch 9/10, Loss: 25106.8491\n",
            "Validation Loss: 1.4022, Accuracy: 46.34%\n",
            "Epoch 10/10, Loss: 1.1603\n",
            "Validation Loss: 0.7727, Accuracy: 53.66%\n",
            "Training with lr=0.01, batch_size=64\n",
            "Epoch 1/10, Loss: 8981061093.1062\n",
            "Validation Loss: 69611.8672, Accuracy: 53.66%\n",
            "Epoch 2/10, Loss: 123000903.0964\n",
            "Validation Loss: 5760716288.0000, Accuracy: 46.34%\n",
            "Epoch 3/10, Loss: 2220172512.0000\n",
            "Validation Loss: 1036620.3750, Accuracy: 46.34%\n",
            "Epoch 4/10, Loss: 432446.7031\n",
            "Validation Loss: 15928834.0000, Accuracy: 53.66%\n",
            "Epoch 5/10, Loss: 6761149.0703\n",
            "Validation Loss: 548.2484, Accuracy: 53.66%\n",
            "Epoch 6/10, Loss: 1684420.0167\n",
            "Validation Loss: 1608.9939, Accuracy: 31.71%\n",
            "Epoch 7/10, Loss: 17547.5688\n",
            "Validation Loss: 17218.8789, Accuracy: 53.66%\n",
            "Epoch 8/10, Loss: 221670057.7700\n",
            "Validation Loss: 16057.0215, Accuracy: 46.34%\n",
            "Epoch 9/10, Loss: 13067.9206\n",
            "Validation Loss: 13796.7178, Accuracy: 46.34%\n",
            "Epoch 10/10, Loss: 5593.8397\n",
            "Validation Loss: 3532.5454, Accuracy: 46.34%\n",
            "   learning_rate  batch_size final_loss final_accuracy\n",
            "0         0.0010          16       None           None\n",
            "1         0.0010          32       None           None\n",
            "2         0.0010          64       None           None\n",
            "3         0.0001          16       None           None\n",
            "4         0.0001          32       None           None\n",
            "5         0.0001          64       None           None\n",
            "6         0.0100          16       None           None\n",
            "7         0.0100          32       None           None\n",
            "8         0.0100          64       None           None\n"
          ]
        }
      ]
    },
    {
      "cell_type": "markdown",
      "source": [
        "\n",
        "#6. Evaluation:\n",
        "\n",
        "Evaluate your trained model using the validation dataset to assess its performance.\n",
        "\n",
        "Calculate relevant metrics such as accuracy, precision, recall, and F1-score.\n",
        "Visualize the model's predictions and misclassifications.\n"
      ],
      "metadata": {
        "id": "r1wqKt7R9a7H"
      }
    },
    {
      "cell_type": "code",
      "source": [
        "# Evaluate the model\n",
        "def test_model(model, test_loader):\n",
        "    model.eval()\n",
        "    correct = 0\n",
        "    total = 0\n",
        "    with torch.no_grad():\n",
        "        for images, labels in test_loader:\n",
        "            images, labels = images.to(device), labels.to(device)\n",
        "            outputs = model(images)\n",
        "            _, predicted = torch.max(outputs, 1)\n",
        "            total += labels.size(0)\n",
        "            correct += (predicted == labels).sum().item()\n",
        "    print(f\"Test Accuracy: {100 * correct / total:.2f}%\")\n",
        "\n",
        "# Test the trained model\n",
        "test_model(model, test_loader)\n"
      ],
      "metadata": {
        "id": "GkyFi4Fk9e0j",
        "colab": {
          "base_uri": "https://localhost:8080/"
        },
        "outputId": "dc4a08bd-f5ef-4569-fdfc-f68fb1f7118b"
      },
      "execution_count": null,
      "outputs": [
        {
          "output_type": "stream",
          "name": "stdout",
          "text": [
            "Test Accuracy: 66.67%\n"
          ]
        }
      ]
    },
    {
      "cell_type": "markdown",
      "source": [
        "\n",
        "7. Fine-Tuning and Iteration:\n",
        "\n",
        "If necessary, make adjustments to the model architecture or hyperparameters based on the evaluation results.\n",
        "\n",
        "Reiterate the training and evaluation steps until you achieve a satisfactory performance.\n"
      ],
      "metadata": {
        "id": "WDmWGM8B9fGN"
      }
    },
    {
      "cell_type": "code",
      "source": [
        "# Define hyperparameters\n",
        "lr = 0.0001\n",
        "batch_size = 32\n",
        "num_epochs = 10\n",
        "\n",
        "print(f\"Training with lr={lr}, batch_size={batch_size}\")\n",
        "\n",
        "# Recreate data loaders with the specified batch size\n",
        "train_loader = DataLoader(train_dataset, batch_size=batch_size, shuffle=True)\n",
        "val_loader = DataLoader(val_dataset, batch_size=batch_size, shuffle=False)\n",
        "\n",
        "# Reinitialize the custom VGG16 model\n",
        "model_vgg16_2 = VGG16(num_classes=2)\n",
        "model_vgg16_2 = model_vgg16_2.to(device)\n",
        "\n",
        "# Reset the optimizer with the new learning rate\n",
        "optimizer = optim.Adam(model_vgg16_2.parameters(), lr=lr)\n",
        "\n",
        "# Train the model with the specified hyperparameters\n",
        "train_model(model_vgg16_2, train_loader, val_loader, criterion, optimizer, num_epochs)\n"
      ],
      "metadata": {
        "colab": {
          "base_uri": "https://localhost:8080/"
        },
        "id": "6JbayvT2NXHg",
        "outputId": "9740b8f0-d4a6-4c3f-ba74-83c7fab629d5"
      },
      "execution_count": null,
      "outputs": [
        {
          "output_type": "stream",
          "name": "stdout",
          "text": [
            "Training with lr=0.0001, batch_size=32\n",
            "Epoch 1/10, Loss: 0.6926\n",
            "Validation Loss: 0.6998, Accuracy: 46.34%\n",
            "Epoch 2/10, Loss: 0.7012\n",
            "Validation Loss: 0.7263, Accuracy: 46.34%\n",
            "Epoch 3/10, Loss: 0.6939\n",
            "Validation Loss: 0.7056, Accuracy: 46.34%\n",
            "Epoch 4/10, Loss: 0.6894\n",
            "Validation Loss: 0.7008, Accuracy: 46.34%\n",
            "Epoch 5/10, Loss: 0.6908\n",
            "Validation Loss: 0.7036, Accuracy: 46.34%\n",
            "Epoch 6/10, Loss: 0.6886\n",
            "Validation Loss: 0.7048, Accuracy: 46.34%\n",
            "Epoch 7/10, Loss: 0.6869\n",
            "Validation Loss: 0.7090, Accuracy: 46.34%\n",
            "Epoch 8/10, Loss: 0.6910\n",
            "Validation Loss: 0.7202, Accuracy: 46.34%\n",
            "Epoch 9/10, Loss: 0.6883\n",
            "Validation Loss: 0.7186, Accuracy: 46.34%\n",
            "Epoch 10/10, Loss: 0.6860\n",
            "Validation Loss: 0.7161, Accuracy: 46.34%\n"
          ]
        }
      ]
    },
    {
      "cell_type": "markdown",
      "source": [
        "Visualization"
      ],
      "metadata": {
        "id": "JSWoYs37X0BW"
      }
    },
    {
      "cell_type": "markdown",
      "source": [
        "\n",
        "\n",
        "8. Final Model Testing:\n",
        "\n",
        "Test your final model on the held-out test dataset to assess its generalization to unseen data."
      ],
      "metadata": {
        "id": "qD35gmRP9jDN"
      }
    },
    {
      "cell_type": "code",
      "source": [
        "\n",
        "# Evaluate the model on the test set\n",
        "print(\"\\nEvaluating on the test set:\")\n",
        "test_model(model_vgg16_2, test_loader)\n"
      ],
      "metadata": {
        "id": "avMOUmrd9mtA",
        "colab": {
          "base_uri": "https://localhost:8080/"
        },
        "outputId": "72a479b2-635a-4d34-fc16-b5ef39800ea2"
      },
      "execution_count": null,
      "outputs": [
        {
          "output_type": "stream",
          "name": "stdout",
          "text": [
            "\n",
            "Evaluating on the test set:\n",
            "Test Accuracy: 66.67%\n"
          ]
        }
      ]
    },
    {
      "cell_type": "markdown",
      "source": [
        "\n",
        "9. Documentation and Reporting:\n",
        "\n",
        "Create a project report summarizing your dataset, model architecture, training process, evaluation results, and insights gained.\n",
        "Include visualizations and explanations to make your findings clear.\n"
      ],
      "metadata": {
        "id": "FjVBDSFt9m-N"
      }
    },
    {
      "cell_type": "markdown",
      "source": [
        "#Project Report\n",
        "\n",
        "For Dataset and Preprocessing For this project, I utilized a dataset comprising X-ray images of hips. These images were divided into two main categories: healthy and effected. The dataset was taken from a zipped archive and organized for convenient access with PyTorch's `ImageFolder` class. For the next steps, I ensured an easy training process by resizing the images to 224x224 pixels, normalizing them to a range of [-1, 1], and using as many simple yet effective augmentation techniques as I could think of to generate variability in the training data. This includes random horizontal flipping, which is always a safe bet, and a few images that were rotated to supplement the \"not-totally-sane\" looking poses our test subjects sometimes struck. After flipping and normalizing, I split the dataset into 70% training, 20% validation, and 10% testing. The ultimate goal was a decent model that could predict unseen images with some hope of interpretability.\n",
        "\n",
        "Model Architecture and Training The deep learning model was a manually implemented VGG16 architecture, known for its simplicity and effectiveness in image classification tasks. This model was deep, fully convolutional, and comprised the use of several convolutional layers with a stack of fully connected layer neurons. Each of the five convolutional blocks in the model was followed by a ReLU activation and a max-pooling layer. The fully connected classifier was developed to make binary classifications. The model was trained with an Adam optimizer, using a learning rate of 0.0001, a batch size of 32, and a cross-entropy loss as the objective function that the neural network sought to minimize.\n",
        "\n",
        "Evaluation and Insights The model's final test accuracy was 66%, demonstrating that it seems to generalize okay to new data. We looked at visualizations of the confusions to understand where it was going wrong, or to put it another way, to find our model's weaknesses. This led us to realize that it is having difficulty with certain kinds of X-ray images that are almost indistinguishable from each other. We did hyperparameter tuning and data augmentation (which are ways that we can make our model more robust) and trained our model on a balanced dataset (to reduce overfitting) and then fine-tuned the model on the fully connected layers and applied dropout. After these steps, we were seeing improvements in validation accuracy, which is a sign that we are not overfitting."
      ],
      "metadata": {
        "id": "qK2e7WDJTlSa"
      }
    },
    {
      "cell_type": "markdown",
      "source": [
        "10. Presentation:\n",
        "\n",
        "Prepare a brief presentation to showcase your project's key findings and outcomes.\n",
        "Share your experiences, challenges faced, and lessons learned during the project."
      ],
      "metadata": {
        "id": "6Ax0es9T9pnh"
      }
    },
    {
      "cell_type": "code",
      "source": [],
      "metadata": {
        "id": "DyVJYylD9row"
      },
      "execution_count": null,
      "outputs": []
    },
    {
      "cell_type": "markdown",
      "source": [
        "\n",
        "11. Conclusion:\n",
        "\n",
        "Conclude your capstone project by summarizing your achievements and any future work or improvements that could be made to the model.\n",
        "Remember to maintain good coding practices and seek guidance or feedback from your instructor throughout the project. This capstone project will demonstrate your ability to apply deep learning techniques to real-world problems and showcase your skills to potential employers or collaborators.\n"
      ],
      "metadata": {
        "id": "95fiEQGS9r8T"
      }
    },
    {
      "cell_type": "markdown",
      "source": [],
      "metadata": {
        "id": "s731duTf9tvt"
      }
    }
  ]
}